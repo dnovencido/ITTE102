{
 "cells": [
  {
   "cell_type": "code",
   "execution_count": 1,
   "id": "d4a5f0ab",
   "metadata": {},
   "outputs": [],
   "source": [
    "import pandas as pd"
   ]
  },
  {
   "cell_type": "code",
   "execution_count": 32,
   "id": "33144931",
   "metadata": {},
   "outputs": [],
   "source": [
    "obj = pd.Series([2, 4, 6, 8, 10])"
   ]
  },
  {
   "cell_type": "code",
   "execution_count": 33,
   "id": "9d0bc89b",
   "metadata": {},
   "outputs": [
    {
     "data": {
      "text/plain": [
       "0     2\n",
       "1     4\n",
       "2     6\n",
       "3     8\n",
       "4    10\n",
       "dtype: int64"
      ]
     },
     "execution_count": 33,
     "metadata": {},
     "output_type": "execute_result"
    }
   ],
   "source": [
    "obj\n"
   ]
  },
  {
   "cell_type": "code",
   "execution_count": 6,
   "id": "0d17ef3d",
   "metadata": {},
   "outputs": [
    {
     "data": {
      "text/plain": [
       "array([ 2,  4,  6,  8, 10])"
      ]
     },
     "execution_count": 6,
     "metadata": {},
     "output_type": "execute_result"
    }
   ],
   "source": [
    "obj.values"
   ]
  },
  {
   "cell_type": "code",
   "execution_count": 7,
   "id": "29cd6474",
   "metadata": {},
   "outputs": [
    {
     "data": {
      "text/plain": [
       "RangeIndex(start=0, stop=5, step=1)"
      ]
     },
     "execution_count": 7,
     "metadata": {},
     "output_type": "execute_result"
    }
   ],
   "source": [
    "obj.index"
   ]
  },
  {
   "cell_type": "code",
   "execution_count": 8,
   "id": "9bcd24e7",
   "metadata": {},
   "outputs": [],
   "source": [
    "data = {'Ohio': 3500, 'Texas': 7100, 'Oregon': 1600, 'Utah': 5000}"
   ]
  },
  {
   "cell_type": "code",
   "execution_count": 9,
   "id": "9af59c55",
   "metadata": {},
   "outputs": [],
   "source": [
    "obj2 = pd.Series(data)"
   ]
  },
  {
   "cell_type": "code",
   "execution_count": 10,
   "id": "8927d01b",
   "metadata": {},
   "outputs": [
    {
     "data": {
      "text/plain": [
       "Ohio      3500\n",
       "Texas     7100\n",
       "Oregon    1600\n",
       "Utah      5000\n",
       "dtype: int64"
      ]
     },
     "execution_count": 10,
     "metadata": {},
     "output_type": "execute_result"
    }
   ],
   "source": [
    "obj2"
   ]
  },
  {
   "cell_type": "code",
   "execution_count": 11,
   "id": "3030c34f",
   "metadata": {},
   "outputs": [],
   "source": [
    "states = ['California', 'Ohio', 'Oregon', 'Texas']"
   ]
  },
  {
   "cell_type": "code",
   "execution_count": 12,
   "id": "e0aad5bb",
   "metadata": {},
   "outputs": [],
   "source": [
    "obj3 = pd.Series(data, index=states)"
   ]
  },
  {
   "cell_type": "code",
   "execution_count": 13,
   "id": "ba6e3c64",
   "metadata": {},
   "outputs": [
    {
     "data": {
      "text/plain": [
       "California       NaN\n",
       "Ohio          3500.0\n",
       "Oregon        1600.0\n",
       "Texas         7100.0\n",
       "dtype: float64"
      ]
     },
     "execution_count": 13,
     "metadata": {},
     "output_type": "execute_result"
    }
   ],
   "source": [
    "obj3"
   ]
  },
  {
   "cell_type": "code",
   "execution_count": 14,
   "id": "3b816c41",
   "metadata": {},
   "outputs": [
    {
     "data": {
      "text/plain": [
       "California     True\n",
       "Ohio          False\n",
       "Oregon        False\n",
       "Texas         False\n",
       "dtype: bool"
      ]
     },
     "execution_count": 14,
     "metadata": {},
     "output_type": "execute_result"
    }
   ],
   "source": [
    "pd.isnull(obj3)"
   ]
  },
  {
   "cell_type": "code",
   "execution_count": 15,
   "id": "f45b577a",
   "metadata": {},
   "outputs": [
    {
     "data": {
      "text/plain": [
       "California    False\n",
       "Ohio           True\n",
       "Oregon         True\n",
       "Texas          True\n",
       "dtype: bool"
      ]
     },
     "execution_count": 15,
     "metadata": {},
     "output_type": "execute_result"
    }
   ],
   "source": [
    "pd.notnull(obj3)"
   ]
  },
  {
   "cell_type": "code",
   "execution_count": 34,
   "id": "a1faf997",
   "metadata": {},
   "outputs": [],
   "source": [
    "data2 = {'Ohio': 2100, 'Texas': 1800, 'Oregon': 500, 'Utah': 1200}"
   ]
  },
  {
   "cell_type": "code",
   "execution_count": 28,
   "id": "edc2e272",
   "metadata": {},
   "outputs": [],
   "source": [
    "states2 = ['California', 'Ohio', 'Oregon', 'Texas', 'Utah']"
   ]
  },
  {
   "cell_type": "code",
   "execution_count": 37,
   "id": "57ecc8db",
   "metadata": {},
   "outputs": [],
   "source": [
    "obj5 = pd.Series(data2,index=states2)"
   ]
  },
  {
   "cell_type": "code",
   "execution_count": 38,
   "id": "3822eb7b",
   "metadata": {},
   "outputs": [
    {
     "data": {
      "text/plain": [
       "Ohio      3500\n",
       "Texas     7100\n",
       "Oregon    1600\n",
       "Utah      5000\n",
       "dtype: int64"
      ]
     },
     "execution_count": 38,
     "metadata": {},
     "output_type": "execute_result"
    }
   ],
   "source": [
    "obj2"
   ]
  },
  {
   "cell_type": "code",
   "execution_count": 39,
   "id": "c8379a64",
   "metadata": {},
   "outputs": [
    {
     "data": {
      "text/plain": [
       "California       NaN\n",
       "Ohio          2100.0\n",
       "Oregon         500.0\n",
       "Texas         1800.0\n",
       "Utah          1200.0\n",
       "dtype: float64"
      ]
     },
     "execution_count": 39,
     "metadata": {},
     "output_type": "execute_result"
    }
   ],
   "source": [
    "obj5"
   ]
  },
  {
   "cell_type": "code",
   "execution_count": 40,
   "id": "e517a841",
   "metadata": {},
   "outputs": [
    {
     "data": {
      "text/plain": [
       "California       NaN\n",
       "Ohio          5600.0\n",
       "Oregon        2100.0\n",
       "Texas         8900.0\n",
       "Utah          6200.0\n",
       "dtype: float64"
      ]
     },
     "execution_count": 40,
     "metadata": {},
     "output_type": "execute_result"
    }
   ],
   "source": [
    "obj2 + obj5"
   ]
  },
  {
   "cell_type": "code",
   "execution_count": null,
   "id": "7bac0bd2",
   "metadata": {},
   "outputs": [],
   "source": []
  }
 ],
 "metadata": {
  "kernelspec": {
   "display_name": "Python 3 (ipykernel)",
   "language": "python",
   "name": "python3"
  },
  "language_info": {
   "codemirror_mode": {
    "name": "ipython",
    "version": 3
   },
   "file_extension": ".py",
   "mimetype": "text/x-python",
   "name": "python",
   "nbconvert_exporter": "python",
   "pygments_lexer": "ipython3",
   "version": "3.9.12"
  }
 },
 "nbformat": 4,
 "nbformat_minor": 5
}
