{
 "cells": [
  {
   "cell_type": "markdown",
   "id": "f9e8e38e",
   "metadata": {},
   "source": [
    "# Part III - Application"
   ]
  },
  {
   "cell_type": "markdown",
   "id": "5ded8804",
   "metadata": {},
   "source": [
    "1. Import pandas as pd."
   ]
  },
  {
   "cell_type": "code",
   "execution_count": 4,
   "id": "c995a479",
   "metadata": {},
   "outputs": [],
   "source": [
    "import pandas as pd"
   ]
  },
  {
   "cell_type": "code",
   "execution_count": 5,
   "id": "16170056",
   "metadata": {},
   "outputs": [],
   "source": [
    "student_data = {\n",
    "                'id': ['1001-2', '1002-2', '1003-2', '1004-2', '1005-2'],\n",
    "                'name': ['Johnathan Bernal', 'Sioned Allan', 'Cayden Collier', 'Jerome Rudd', 'Jibril Morrow'],\n",
    "                'section': ['1A', '2A', '3B', '3D', '2E'],\n",
    "                'year' : ['BSIT-1', 'BSIT-2', 'BSIT-3', 'BSIT-3', 'BSIT-2']\n",
    "               }"
   ]
  },
  {
   "cell_type": "code",
   "execution_count": 6,
   "id": "50d6ffcc",
   "metadata": {},
   "outputs": [
    {
     "data": {
      "text/plain": [
       "{'id': ['1001-2', '1002-2', '1003-2', '1004-2', '1005-2'],\n",
       " 'name': ['Johnathan Bernal',\n",
       "  'Sioned Allan',\n",
       "  'Cayden Collier',\n",
       "  'Jerome Rudd',\n",
       "  'Jibril Morrow'],\n",
       " 'section': ['1A', '2A', '3B', '3D', '2E'],\n",
       " 'year': ['BSIT-1', 'BSIT-2', 'BSIT-3', 'BSIT-3', 'BSIT-2']}"
      ]
     },
     "execution_count": 6,
     "metadata": {},
     "output_type": "execute_result"
    }
   ],
   "source": [
    "student_data"
   ]
  },
  {
   "cell_type": "markdown",
   "id": "285e96f7",
   "metadata": {},
   "source": [
    "2. Create student dataframe from student_data dictionary"
   ]
  },
  {
   "cell_type": "code",
   "execution_count": 7,
   "id": "d6799dcf",
   "metadata": {},
   "outputs": [],
   "source": [
    "student = pd.DataFrame(student_data)"
   ]
  },
  {
   "cell_type": "code",
   "execution_count": 9,
   "id": "495cf807",
   "metadata": {},
   "outputs": [],
   "source": [
    "grades_data = {\n",
    "    'id': ['1001-2', '1002-2', '1003-2', '1004-2', '1005-2'],\n",
    "    'gpa': [91., 92., 88., 83., 75.],\n",
    "}"
   ]
  },
  {
   "cell_type": "markdown",
   "id": "ff110b07",
   "metadata": {},
   "source": [
    "3. Create grade dataframe from grades_data dictionary"
   ]
  },
  {
   "cell_type": "code",
   "execution_count": 10,
   "id": "56199adc",
   "metadata": {},
   "outputs": [],
   "source": [
    "grade = pd.DataFrame(grades_data)"
   ]
  },
  {
   "cell_type": "markdown",
   "id": "ad3a60cd",
   "metadata": {},
   "source": [
    "4. Preview student dataFrame"
   ]
  },
  {
   "cell_type": "code",
   "execution_count": 11,
   "id": "f5c6855e",
   "metadata": {},
   "outputs": [
    {
     "data": {
      "text/html": [
       "<div>\n",
       "<style scoped>\n",
       "    .dataframe tbody tr th:only-of-type {\n",
       "        vertical-align: middle;\n",
       "    }\n",
       "\n",
       "    .dataframe tbody tr th {\n",
       "        vertical-align: top;\n",
       "    }\n",
       "\n",
       "    .dataframe thead th {\n",
       "        text-align: right;\n",
       "    }\n",
       "</style>\n",
       "<table border=\"1\" class=\"dataframe\">\n",
       "  <thead>\n",
       "    <tr style=\"text-align: right;\">\n",
       "      <th></th>\n",
       "      <th>id</th>\n",
       "      <th>name</th>\n",
       "      <th>section</th>\n",
       "      <th>year</th>\n",
       "    </tr>\n",
       "  </thead>\n",
       "  <tbody>\n",
       "    <tr>\n",
       "      <th>0</th>\n",
       "      <td>1001-2</td>\n",
       "      <td>Johnathan Bernal</td>\n",
       "      <td>1A</td>\n",
       "      <td>BSIT-1</td>\n",
       "    </tr>\n",
       "    <tr>\n",
       "      <th>1</th>\n",
       "      <td>1002-2</td>\n",
       "      <td>Sioned Allan</td>\n",
       "      <td>2A</td>\n",
       "      <td>BSIT-2</td>\n",
       "    </tr>\n",
       "    <tr>\n",
       "      <th>2</th>\n",
       "      <td>1003-2</td>\n",
       "      <td>Cayden Collier</td>\n",
       "      <td>3B</td>\n",
       "      <td>BSIT-3</td>\n",
       "    </tr>\n",
       "    <tr>\n",
       "      <th>3</th>\n",
       "      <td>1004-2</td>\n",
       "      <td>Jerome Rudd</td>\n",
       "      <td>3D</td>\n",
       "      <td>BSIT-3</td>\n",
       "    </tr>\n",
       "    <tr>\n",
       "      <th>4</th>\n",
       "      <td>1005-2</td>\n",
       "      <td>Jibril Morrow</td>\n",
       "      <td>2E</td>\n",
       "      <td>BSIT-2</td>\n",
       "    </tr>\n",
       "  </tbody>\n",
       "</table>\n",
       "</div>"
      ],
      "text/plain": [
       "       id              name section    year\n",
       "0  1001-2  Johnathan Bernal      1A  BSIT-1\n",
       "1  1002-2      Sioned Allan      2A  BSIT-2\n",
       "2  1003-2    Cayden Collier      3B  BSIT-3\n",
       "3  1004-2       Jerome Rudd      3D  BSIT-3\n",
       "4  1005-2     Jibril Morrow      2E  BSIT-2"
      ]
     },
     "execution_count": 11,
     "metadata": {},
     "output_type": "execute_result"
    }
   ],
   "source": [
    "student"
   ]
  },
  {
   "cell_type": "markdown",
   "id": "a44b75ab",
   "metadata": {},
   "source": [
    "5. Preview grade dataFrame"
   ]
  },
  {
   "cell_type": "code",
   "execution_count": 12,
   "id": "8b4733ae",
   "metadata": {},
   "outputs": [
    {
     "data": {
      "text/html": [
       "<div>\n",
       "<style scoped>\n",
       "    .dataframe tbody tr th:only-of-type {\n",
       "        vertical-align: middle;\n",
       "    }\n",
       "\n",
       "    .dataframe tbody tr th {\n",
       "        vertical-align: top;\n",
       "    }\n",
       "\n",
       "    .dataframe thead th {\n",
       "        text-align: right;\n",
       "    }\n",
       "</style>\n",
       "<table border=\"1\" class=\"dataframe\">\n",
       "  <thead>\n",
       "    <tr style=\"text-align: right;\">\n",
       "      <th></th>\n",
       "      <th>id</th>\n",
       "      <th>gpa</th>\n",
       "    </tr>\n",
       "  </thead>\n",
       "  <tbody>\n",
       "    <tr>\n",
       "      <th>0</th>\n",
       "      <td>1001-2</td>\n",
       "      <td>91.0</td>\n",
       "    </tr>\n",
       "    <tr>\n",
       "      <th>1</th>\n",
       "      <td>1002-2</td>\n",
       "      <td>92.0</td>\n",
       "    </tr>\n",
       "    <tr>\n",
       "      <th>2</th>\n",
       "      <td>1003-2</td>\n",
       "      <td>88.0</td>\n",
       "    </tr>\n",
       "    <tr>\n",
       "      <th>3</th>\n",
       "      <td>1004-2</td>\n",
       "      <td>83.0</td>\n",
       "    </tr>\n",
       "    <tr>\n",
       "      <th>4</th>\n",
       "      <td>1005-2</td>\n",
       "      <td>75.0</td>\n",
       "    </tr>\n",
       "  </tbody>\n",
       "</table>\n",
       "</div>"
      ],
      "text/plain": [
       "       id   gpa\n",
       "0  1001-2  91.0\n",
       "1  1002-2  92.0\n",
       "2  1003-2  88.0\n",
       "3  1004-2  83.0\n",
       "4  1005-2  75.0"
      ]
     },
     "execution_count": 12,
     "metadata": {},
     "output_type": "execute_result"
    }
   ],
   "source": [
    "grade"
   ]
  },
  {
   "cell_type": "markdown",
   "id": "7b6f23b1",
   "metadata": {},
   "source": [
    "6. Merge student and grade dataFrame. Set the type of merge to inner and key to id"
   ]
  },
  {
   "cell_type": "code",
   "execution_count": 13,
   "id": "580b7913",
   "metadata": {},
   "outputs": [],
   "source": [
    "student_grades = pd.merge(student,grade,how='inner',on='id')"
   ]
  },
  {
   "cell_type": "markdown",
   "id": "ac0cfe3c",
   "metadata": {},
   "source": [
    "7. Create a student_df dataFrame from student_grades."
   ]
  },
  {
   "cell_type": "code",
   "execution_count": 14,
   "id": "908a98e3",
   "metadata": {},
   "outputs": [],
   "source": [
    "student_df = pd.DataFrame(student_grades)"
   ]
  },
  {
   "cell_type": "markdown",
   "id": "b4d35b39",
   "metadata": {},
   "source": [
    "8. Preview student_df dataFrame"
   ]
  },
  {
   "cell_type": "code",
   "execution_count": 15,
   "id": "1fb7bfe1",
   "metadata": {},
   "outputs": [
    {
     "data": {
      "text/html": [
       "<div>\n",
       "<style scoped>\n",
       "    .dataframe tbody tr th:only-of-type {\n",
       "        vertical-align: middle;\n",
       "    }\n",
       "\n",
       "    .dataframe tbody tr th {\n",
       "        vertical-align: top;\n",
       "    }\n",
       "\n",
       "    .dataframe thead th {\n",
       "        text-align: right;\n",
       "    }\n",
       "</style>\n",
       "<table border=\"1\" class=\"dataframe\">\n",
       "  <thead>\n",
       "    <tr style=\"text-align: right;\">\n",
       "      <th></th>\n",
       "      <th>id</th>\n",
       "      <th>name</th>\n",
       "      <th>section</th>\n",
       "      <th>year</th>\n",
       "      <th>gpa</th>\n",
       "    </tr>\n",
       "  </thead>\n",
       "  <tbody>\n",
       "    <tr>\n",
       "      <th>0</th>\n",
       "      <td>1001-2</td>\n",
       "      <td>Johnathan Bernal</td>\n",
       "      <td>1A</td>\n",
       "      <td>BSIT-1</td>\n",
       "      <td>91.0</td>\n",
       "    </tr>\n",
       "    <tr>\n",
       "      <th>1</th>\n",
       "      <td>1002-2</td>\n",
       "      <td>Sioned Allan</td>\n",
       "      <td>2A</td>\n",
       "      <td>BSIT-2</td>\n",
       "      <td>92.0</td>\n",
       "    </tr>\n",
       "    <tr>\n",
       "      <th>2</th>\n",
       "      <td>1003-2</td>\n",
       "      <td>Cayden Collier</td>\n",
       "      <td>3B</td>\n",
       "      <td>BSIT-3</td>\n",
       "      <td>88.0</td>\n",
       "    </tr>\n",
       "    <tr>\n",
       "      <th>3</th>\n",
       "      <td>1004-2</td>\n",
       "      <td>Jerome Rudd</td>\n",
       "      <td>3D</td>\n",
       "      <td>BSIT-3</td>\n",
       "      <td>83.0</td>\n",
       "    </tr>\n",
       "    <tr>\n",
       "      <th>4</th>\n",
       "      <td>1005-2</td>\n",
       "      <td>Jibril Morrow</td>\n",
       "      <td>2E</td>\n",
       "      <td>BSIT-2</td>\n",
       "      <td>75.0</td>\n",
       "    </tr>\n",
       "  </tbody>\n",
       "</table>\n",
       "</div>"
      ],
      "text/plain": [
       "       id              name section    year   gpa\n",
       "0  1001-2  Johnathan Bernal      1A  BSIT-1  91.0\n",
       "1  1002-2      Sioned Allan      2A  BSIT-2  92.0\n",
       "2  1003-2    Cayden Collier      3B  BSIT-3  88.0\n",
       "3  1004-2       Jerome Rudd      3D  BSIT-3  83.0\n",
       "4  1005-2     Jibril Morrow      2E  BSIT-2  75.0"
      ]
     },
     "execution_count": 15,
     "metadata": {},
     "output_type": "execute_result"
    }
   ],
   "source": [
    "student_df"
   ]
  },
  {
   "cell_type": "markdown",
   "id": "6e19be78",
   "metadata": {},
   "source": [
    "9. Print the information of student_df dataFrame"
   ]
  },
  {
   "cell_type": "code",
   "execution_count": 16,
   "id": "7e683047",
   "metadata": {},
   "outputs": [
    {
     "name": "stdout",
     "output_type": "stream",
     "text": [
      "<class 'pandas.core.frame.DataFrame'>\n",
      "Int64Index: 5 entries, 0 to 4\n",
      "Data columns (total 5 columns):\n",
      " #   Column   Non-Null Count  Dtype  \n",
      "---  ------   --------------  -----  \n",
      " 0   id       5 non-null      object \n",
      " 1   name     5 non-null      object \n",
      " 2   section  5 non-null      object \n",
      " 3   year     5 non-null      object \n",
      " 4   gpa      5 non-null      float64\n",
      "dtypes: float64(1), object(4)\n",
      "memory usage: 240.0+ bytes\n"
     ]
    }
   ],
   "source": [
    "student_df.info()"
   ]
  },
  {
   "cell_type": "markdown",
   "id": "fe6f27fa",
   "metadata": {},
   "source": [
    "10. Create a function named \"deans_list\" to check whether the student is a dean's lister or not. If gpa > 90.0 then the value must be 'Y' else the value is 'N'"
   ]
  },
  {
   "cell_type": "code",
   "execution_count": 21,
   "id": "b59c7c4b",
   "metadata": {},
   "outputs": [],
   "source": [
    "student_df['deans_list'] = student_df['gpa'].apply(lambda gpa: 'Y' if gpa > 90 else 'N')"
   ]
  },
  {
   "cell_type": "code",
   "execution_count": 19,
   "id": "04adf606",
   "metadata": {},
   "outputs": [
    {
     "data": {
      "text/html": [
       "<div>\n",
       "<style scoped>\n",
       "    .dataframe tbody tr th:only-of-type {\n",
       "        vertical-align: middle;\n",
       "    }\n",
       "\n",
       "    .dataframe tbody tr th {\n",
       "        vertical-align: top;\n",
       "    }\n",
       "\n",
       "    .dataframe thead th {\n",
       "        text-align: right;\n",
       "    }\n",
       "</style>\n",
       "<table border=\"1\" class=\"dataframe\">\n",
       "  <thead>\n",
       "    <tr style=\"text-align: right;\">\n",
       "      <th></th>\n",
       "      <th>id</th>\n",
       "      <th>name</th>\n",
       "      <th>section</th>\n",
       "      <th>year</th>\n",
       "      <th>gpa</th>\n",
       "      <th>deans_list</th>\n",
       "    </tr>\n",
       "  </thead>\n",
       "  <tbody>\n",
       "    <tr>\n",
       "      <th>0</th>\n",
       "      <td>1001-2</td>\n",
       "      <td>Johnathan Bernal</td>\n",
       "      <td>1A</td>\n",
       "      <td>BSIT-1</td>\n",
       "      <td>91.0</td>\n",
       "      <td>Y</td>\n",
       "    </tr>\n",
       "    <tr>\n",
       "      <th>1</th>\n",
       "      <td>1002-2</td>\n",
       "      <td>Sioned Allan</td>\n",
       "      <td>2A</td>\n",
       "      <td>BSIT-2</td>\n",
       "      <td>92.0</td>\n",
       "      <td>Y</td>\n",
       "    </tr>\n",
       "    <tr>\n",
       "      <th>2</th>\n",
       "      <td>1003-2</td>\n",
       "      <td>Cayden Collier</td>\n",
       "      <td>3B</td>\n",
       "      <td>BSIT-3</td>\n",
       "      <td>88.0</td>\n",
       "      <td>N</td>\n",
       "    </tr>\n",
       "    <tr>\n",
       "      <th>3</th>\n",
       "      <td>1004-2</td>\n",
       "      <td>Jerome Rudd</td>\n",
       "      <td>3D</td>\n",
       "      <td>BSIT-3</td>\n",
       "      <td>83.0</td>\n",
       "      <td>N</td>\n",
       "    </tr>\n",
       "    <tr>\n",
       "      <th>4</th>\n",
       "      <td>1005-2</td>\n",
       "      <td>Jibril Morrow</td>\n",
       "      <td>2E</td>\n",
       "      <td>BSIT-2</td>\n",
       "      <td>75.0</td>\n",
       "      <td>N</td>\n",
       "    </tr>\n",
       "  </tbody>\n",
       "</table>\n",
       "</div>"
      ],
      "text/plain": [
       "       id              name section    year   gpa deans_list\n",
       "0  1001-2  Johnathan Bernal      1A  BSIT-1  91.0          Y\n",
       "1  1002-2      Sioned Allan      2A  BSIT-2  92.0          Y\n",
       "2  1003-2    Cayden Collier      3B  BSIT-3  88.0          N\n",
       "3  1004-2       Jerome Rudd      3D  BSIT-3  83.0          N\n",
       "4  1005-2     Jibril Morrow      2E  BSIT-2  75.0          N"
      ]
     },
     "execution_count": 19,
     "metadata": {},
     "output_type": "execute_result"
    }
   ],
   "source": [
    "student_df"
   ]
  },
  {
   "cell_type": "markdown",
   "id": "50f0f932",
   "metadata": {},
   "source": [
    "11. Filter the student_df dataFrame that has a deans_list value equals to 'N'"
   ]
  },
  {
   "cell_type": "code",
   "execution_count": 25,
   "id": "a7996ef4",
   "metadata": {},
   "outputs": [
    {
     "data": {
      "text/html": [
       "<div>\n",
       "<style scoped>\n",
       "    .dataframe tbody tr th:only-of-type {\n",
       "        vertical-align: middle;\n",
       "    }\n",
       "\n",
       "    .dataframe tbody tr th {\n",
       "        vertical-align: top;\n",
       "    }\n",
       "\n",
       "    .dataframe thead th {\n",
       "        text-align: right;\n",
       "    }\n",
       "</style>\n",
       "<table border=\"1\" class=\"dataframe\">\n",
       "  <thead>\n",
       "    <tr style=\"text-align: right;\">\n",
       "      <th></th>\n",
       "      <th>id</th>\n",
       "      <th>name</th>\n",
       "      <th>section</th>\n",
       "      <th>year</th>\n",
       "      <th>gpa</th>\n",
       "      <th>deans_list</th>\n",
       "    </tr>\n",
       "  </thead>\n",
       "  <tbody>\n",
       "    <tr>\n",
       "      <th>2</th>\n",
       "      <td>1003-2</td>\n",
       "      <td>Cayden Collier</td>\n",
       "      <td>3B</td>\n",
       "      <td>BSIT-3</td>\n",
       "      <td>88.0</td>\n",
       "      <td>N</td>\n",
       "    </tr>\n",
       "    <tr>\n",
       "      <th>3</th>\n",
       "      <td>1004-2</td>\n",
       "      <td>Jerome Rudd</td>\n",
       "      <td>3D</td>\n",
       "      <td>BSIT-3</td>\n",
       "      <td>83.0</td>\n",
       "      <td>N</td>\n",
       "    </tr>\n",
       "    <tr>\n",
       "      <th>4</th>\n",
       "      <td>1005-2</td>\n",
       "      <td>Jibril Morrow</td>\n",
       "      <td>2E</td>\n",
       "      <td>BSIT-2</td>\n",
       "      <td>75.0</td>\n",
       "      <td>N</td>\n",
       "    </tr>\n",
       "  </tbody>\n",
       "</table>\n",
       "</div>"
      ],
      "text/plain": [
       "       id            name section    year   gpa deans_list\n",
       "2  1003-2  Cayden Collier      3B  BSIT-3  88.0          N\n",
       "3  1004-2     Jerome Rudd      3D  BSIT-3  83.0          N\n",
       "4  1005-2   Jibril Morrow      2E  BSIT-2  75.0          N"
      ]
     },
     "execution_count": 25,
     "metadata": {},
     "output_type": "execute_result"
    }
   ],
   "source": [
    "student_df[student_df['deans_list'] == 'N']"
   ]
  },
  {
   "cell_type": "markdown",
   "id": "1652e55d",
   "metadata": {},
   "source": [
    "12. What was the average gpa of student per year level"
   ]
  },
  {
   "cell_type": "code",
   "execution_count": 27,
   "id": "4699c0b7",
   "metadata": {},
   "outputs": [],
   "source": [
    "gpa_level = student_df.groupby('year')"
   ]
  },
  {
   "cell_type": "code",
   "execution_count": 30,
   "id": "d22aeb97",
   "metadata": {},
   "outputs": [],
   "source": [
    "gpa_level_mean = gpa_level.mean()"
   ]
  },
  {
   "cell_type": "code",
   "execution_count": 31,
   "id": "09ec1dee",
   "metadata": {},
   "outputs": [
    {
     "data": {
      "text/html": [
       "<div>\n",
       "<style scoped>\n",
       "    .dataframe tbody tr th:only-of-type {\n",
       "        vertical-align: middle;\n",
       "    }\n",
       "\n",
       "    .dataframe tbody tr th {\n",
       "        vertical-align: top;\n",
       "    }\n",
       "\n",
       "    .dataframe thead th {\n",
       "        text-align: right;\n",
       "    }\n",
       "</style>\n",
       "<table border=\"1\" class=\"dataframe\">\n",
       "  <thead>\n",
       "    <tr style=\"text-align: right;\">\n",
       "      <th></th>\n",
       "      <th>gpa</th>\n",
       "    </tr>\n",
       "    <tr>\n",
       "      <th>year</th>\n",
       "      <th></th>\n",
       "    </tr>\n",
       "  </thead>\n",
       "  <tbody>\n",
       "    <tr>\n",
       "      <th>BSIT-1</th>\n",
       "      <td>91.0</td>\n",
       "    </tr>\n",
       "    <tr>\n",
       "      <th>BSIT-2</th>\n",
       "      <td>83.5</td>\n",
       "    </tr>\n",
       "    <tr>\n",
       "      <th>BSIT-3</th>\n",
       "      <td>85.5</td>\n",
       "    </tr>\n",
       "  </tbody>\n",
       "</table>\n",
       "</div>"
      ],
      "text/plain": [
       "         gpa\n",
       "year        \n",
       "BSIT-1  91.0\n",
       "BSIT-2  83.5\n",
       "BSIT-3  85.5"
      ]
     },
     "execution_count": 31,
     "metadata": {},
     "output_type": "execute_result"
    }
   ],
   "source": [
    "gpa_level_mean"
   ]
  },
  {
   "cell_type": "markdown",
   "id": "f332b5b4",
   "metadata": {},
   "source": [
    "13. What is the average gpa of BSIT-3 students?"
   ]
  },
  {
   "cell_type": "code",
   "execution_count": 32,
   "id": "e8edde0d",
   "metadata": {},
   "outputs": [
    {
     "data": {
      "text/plain": [
       "gpa    85.5\n",
       "Name: BSIT-3, dtype: float64"
      ]
     },
     "execution_count": 32,
     "metadata": {},
     "output_type": "execute_result"
    }
   ],
   "source": [
    "gpa_level_mean.loc['BSIT-3']"
   ]
  },
  {
   "cell_type": "markdown",
   "id": "3714aba3",
   "metadata": {},
   "source": [
    "14. What is the highest gpa per year level?"
   ]
  },
  {
   "cell_type": "code",
   "execution_count": 34,
   "id": "a083d7aa",
   "metadata": {},
   "outputs": [
    {
     "data": {
      "text/html": [
       "<div>\n",
       "<style scoped>\n",
       "    .dataframe tbody tr th:only-of-type {\n",
       "        vertical-align: middle;\n",
       "    }\n",
       "\n",
       "    .dataframe tbody tr th {\n",
       "        vertical-align: top;\n",
       "    }\n",
       "\n",
       "    .dataframe thead th {\n",
       "        text-align: right;\n",
       "    }\n",
       "</style>\n",
       "<table border=\"1\" class=\"dataframe\">\n",
       "  <thead>\n",
       "    <tr style=\"text-align: right;\">\n",
       "      <th></th>\n",
       "      <th>id</th>\n",
       "      <th>name</th>\n",
       "      <th>section</th>\n",
       "      <th>gpa</th>\n",
       "      <th>deans_list</th>\n",
       "    </tr>\n",
       "    <tr>\n",
       "      <th>year</th>\n",
       "      <th></th>\n",
       "      <th></th>\n",
       "      <th></th>\n",
       "      <th></th>\n",
       "      <th></th>\n",
       "    </tr>\n",
       "  </thead>\n",
       "  <tbody>\n",
       "    <tr>\n",
       "      <th>BSIT-1</th>\n",
       "      <td>1001-2</td>\n",
       "      <td>Johnathan Bernal</td>\n",
       "      <td>1A</td>\n",
       "      <td>91.0</td>\n",
       "      <td>Y</td>\n",
       "    </tr>\n",
       "    <tr>\n",
       "      <th>BSIT-2</th>\n",
       "      <td>1005-2</td>\n",
       "      <td>Sioned Allan</td>\n",
       "      <td>2E</td>\n",
       "      <td>92.0</td>\n",
       "      <td>Y</td>\n",
       "    </tr>\n",
       "    <tr>\n",
       "      <th>BSIT-3</th>\n",
       "      <td>1004-2</td>\n",
       "      <td>Jerome Rudd</td>\n",
       "      <td>3D</td>\n",
       "      <td>88.0</td>\n",
       "      <td>N</td>\n",
       "    </tr>\n",
       "  </tbody>\n",
       "</table>\n",
       "</div>"
      ],
      "text/plain": [
       "            id              name section   gpa deans_list\n",
       "year                                                     \n",
       "BSIT-1  1001-2  Johnathan Bernal      1A  91.0          Y\n",
       "BSIT-2  1005-2      Sioned Allan      2E  92.0          Y\n",
       "BSIT-3  1004-2       Jerome Rudd      3D  88.0          N"
      ]
     },
     "execution_count": 34,
     "metadata": {},
     "output_type": "execute_result"
    }
   ],
   "source": [
    "gpa_level.max()"
   ]
  },
  {
   "cell_type": "markdown",
   "id": "76aa2f1f",
   "metadata": {},
   "source": [
    "15. Generate descriptive statistics."
   ]
  },
  {
   "cell_type": "code",
   "execution_count": 35,
   "id": "e7700517",
   "metadata": {},
   "outputs": [
    {
     "data": {
      "text/html": [
       "<div>\n",
       "<style scoped>\n",
       "    .dataframe tbody tr th:only-of-type {\n",
       "        vertical-align: middle;\n",
       "    }\n",
       "\n",
       "    .dataframe tbody tr th {\n",
       "        vertical-align: top;\n",
       "    }\n",
       "\n",
       "    .dataframe thead tr th {\n",
       "        text-align: left;\n",
       "    }\n",
       "\n",
       "    .dataframe thead tr:last-of-type th {\n",
       "        text-align: right;\n",
       "    }\n",
       "</style>\n",
       "<table border=\"1\" class=\"dataframe\">\n",
       "  <thead>\n",
       "    <tr>\n",
       "      <th></th>\n",
       "      <th colspan=\"8\" halign=\"left\">gpa</th>\n",
       "    </tr>\n",
       "    <tr>\n",
       "      <th></th>\n",
       "      <th>count</th>\n",
       "      <th>mean</th>\n",
       "      <th>std</th>\n",
       "      <th>min</th>\n",
       "      <th>25%</th>\n",
       "      <th>50%</th>\n",
       "      <th>75%</th>\n",
       "      <th>max</th>\n",
       "    </tr>\n",
       "    <tr>\n",
       "      <th>year</th>\n",
       "      <th></th>\n",
       "      <th></th>\n",
       "      <th></th>\n",
       "      <th></th>\n",
       "      <th></th>\n",
       "      <th></th>\n",
       "      <th></th>\n",
       "      <th></th>\n",
       "    </tr>\n",
       "  </thead>\n",
       "  <tbody>\n",
       "    <tr>\n",
       "      <th>BSIT-1</th>\n",
       "      <td>1.0</td>\n",
       "      <td>91.0</td>\n",
       "      <td>NaN</td>\n",
       "      <td>91.0</td>\n",
       "      <td>91.00</td>\n",
       "      <td>91.0</td>\n",
       "      <td>91.00</td>\n",
       "      <td>91.0</td>\n",
       "    </tr>\n",
       "    <tr>\n",
       "      <th>BSIT-2</th>\n",
       "      <td>2.0</td>\n",
       "      <td>83.5</td>\n",
       "      <td>12.020815</td>\n",
       "      <td>75.0</td>\n",
       "      <td>79.25</td>\n",
       "      <td>83.5</td>\n",
       "      <td>87.75</td>\n",
       "      <td>92.0</td>\n",
       "    </tr>\n",
       "    <tr>\n",
       "      <th>BSIT-3</th>\n",
       "      <td>2.0</td>\n",
       "      <td>85.5</td>\n",
       "      <td>3.535534</td>\n",
       "      <td>83.0</td>\n",
       "      <td>84.25</td>\n",
       "      <td>85.5</td>\n",
       "      <td>86.75</td>\n",
       "      <td>88.0</td>\n",
       "    </tr>\n",
       "  </tbody>\n",
       "</table>\n",
       "</div>"
      ],
      "text/plain": [
       "         gpa                                                 \n",
       "       count  mean        std   min    25%   50%    75%   max\n",
       "year                                                         \n",
       "BSIT-1   1.0  91.0        NaN  91.0  91.00  91.0  91.00  91.0\n",
       "BSIT-2   2.0  83.5  12.020815  75.0  79.25  83.5  87.75  92.0\n",
       "BSIT-3   2.0  85.5   3.535534  83.0  84.25  85.5  86.75  88.0"
      ]
     },
     "execution_count": 35,
     "metadata": {},
     "output_type": "execute_result"
    }
   ],
   "source": [
    "gpa_level.describe()"
   ]
  },
  {
   "cell_type": "code",
   "execution_count": null,
   "id": "ad29389c",
   "metadata": {},
   "outputs": [],
   "source": []
  }
 ],
 "metadata": {
  "kernelspec": {
   "display_name": "Python 3 (ipykernel)",
   "language": "python",
   "name": "python3"
  },
  "language_info": {
   "codemirror_mode": {
    "name": "ipython",
    "version": 3
   },
   "file_extension": ".py",
   "mimetype": "text/x-python",
   "name": "python",
   "nbconvert_exporter": "python",
   "pygments_lexer": "ipython3",
   "version": "3.9.12"
  }
 },
 "nbformat": 4,
 "nbformat_minor": 5
}
